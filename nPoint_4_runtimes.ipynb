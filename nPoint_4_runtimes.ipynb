{
 "cells": [
  {
   "cell_type": "code",
   "execution_count": 1,
   "id": "2b8d580e-d369-4017-b20e-bcdbad538778",
   "metadata": {},
   "outputs": [],
   "source": [
    "import timeit\n",
    "\n",
    "import matplotlib\n",
    "import matplotlib.pyplot as plt\n",
    "import numpy as np"
   ]
  },
  {
   "cell_type": "code",
   "execution_count": null,
   "id": "5d5fea10-9b1d-48e8-b20c-312f5a2d81bd",
   "metadata": {},
   "outputs": [],
   "source": [
    "def read_unstructured_field_from_file(filename, num_halo=None):\n",
    "    (rank, nbits, nx, ny, nz) = np.fromfile(filename, dtype=np.int32, count=5)\n",
    "    offset = (3 + rank) * 32 // nbits\n",
    "    data = np.fromfile(\n",
    "        filename,\n",
    "        dtype=np.float32 if nbits == 32 else np.float64)\n",
    "    if rank == 3:\n",
    "        return np.reshape(data[5:], (nz, ny, nx))\n",
    "    else:\n",
    "        return np.reshape(data[5:], (ny, nx))\n",
    "\n",
    "\n",
    "def validate_unstructured_results(in_filename, out_filename):\n",
    "    fig, axs = plt.subplots(1, 2, figsize=(12, 4))\n",
    "\n",
    "    in_field = read_unstructured_field_from_file(in_filename)\n",
    "    print(in_field.shape[0])\n",
    "    im1 = axs[0].imshow(\n",
    "        in_field[in_field.shape[0] // 2, :, :], origin=\"lower\", vmin=-0.1, vmax=1.1\n",
    "    )\n",
    "    fig.colorbar(im1, ax=axs[0])\n",
    "    axs[0].set_title(\"Initial condition\")\n",
    "\n",
    "    out_field = read_unstructured_field_from_file(out_filename)\n",
    "    im2 = axs[1].imshow(\n",
    "        out_field[out_field.shape[0] // 2, :, :], origin=\"lower\", vmin=-0.1, vmax=1.1\n",
    "    )\n",
    "    fig.colorbar(im2, ax=axs[1])\n",
    "    axs[1].set_title(\"Final result\")\n",
    "\n",
    "    plt.show()"
   ]
  },
  {
   "cell_type": "markdown",
   "id": "3617e74f-df05-4e1f-b4a5-1c479aa094b0",
   "metadata": {},
   "source": [
    "# Compile sequential"
   ]
  },
  {
   "cell_type": "code",
   "execution_count": 2,
   "id": "9a5eb755-2118-477c-9afe-a5962cf0dec2",
   "metadata": {},
   "outputs": [
    {
     "name": "stdout",
     "output_type": "stream",
     "text": [
      "make: 'stencil2d-sequential_nPoint_4.x' is up to date.\n"
     ]
    }
   ],
   "source": [
    "%%bash\n",
    "module load daint-gpu\n",
    "module switch PrgEnv-gnu PrgEnv-cray\n",
    "module load perftools-lite\n",
    "\n",
    "# make clean\n",
    "make VERSION=sequential_nPoint_4"
   ]
  },
  {
   "cell_type": "code",
   "execution_count": 3,
   "id": "c7b25356-3e49-455a-9959-b525e1162206",
   "metadata": {
    "tags": []
   },
   "outputs": [
    {
     "name": "stdout",
     "output_type": "stream",
     "text": [
      "# ranks nx ny nz num_iter time\n",
      "data = np.array( [ \\\n",
      "[    1,  128,  128,   64,    1024,  0.4548142E+01], \\\n",
      "] )\n"
     ]
    }
   ],
   "source": [
    "%%bash\n",
    "srun -n 1 ./stencil2d-sequential_nPoint_4.x+orig --nx 128 --ny 128 --nz 64 --num_iter 1024"
   ]
  },
  {
   "cell_type": "markdown",
   "id": "54e8f483-0352-433f-b711-f9215565bcb2",
   "metadata": {},
   "source": [
    "# Compile random"
   ]
  },
  {
   "cell_type": "code",
   "execution_count": 4,
   "id": "583d7574-c1d1-4983-8736-5511f5eed17e",
   "metadata": {},
   "outputs": [
    {
     "name": "stdout",
     "output_type": "stream",
     "text": [
      "make: 'stencil2d-random_nPoint_4.x' is up to date.\n"
     ]
    }
   ],
   "source": [
    "%%bash\n",
    "module load daint-gpu\n",
    "module switch PrgEnv-gnu PrgEnv-cray\n",
    "module load perftools-lite\n",
    "\n",
    "# make clean\n",
    "make VERSION=random_nPoint_4"
   ]
  },
  {
   "cell_type": "code",
   "execution_count": 5,
   "id": "6dd715e3-2c4f-46d4-b3b3-1bc49ddb0639",
   "metadata": {},
   "outputs": [
    {
     "name": "stdout",
     "output_type": "stream",
     "text": [
      "# ranks nx ny nz num_iter time\n",
      "data = np.array( [ \\\n",
      "[    1,  128,  128,   64,    1024,  0.5950273E+01], \\\n",
      "] )\n"
     ]
    }
   ],
   "source": [
    "%%bash\n",
    "srun -n 1 ./stencil2d-random.x+orig --nx 128 --ny 128 --nz 64 --num_iter 1024"
   ]
  },
  {
   "cell_type": "markdown",
   "id": "b567658b-d7a2-42e2-9409-d06f6c149655",
   "metadata": {},
   "source": [
    "# Compile filling curve"
   ]
  },
  {
   "cell_type": "code",
   "execution_count": 6,
   "id": "e1074342-b26d-4d58-b9b7-019f1dd259ec",
   "metadata": {},
   "outputs": [
    {
     "name": "stdout",
     "output_type": "stream",
     "text": [
      "make: 'stencil2d-hilbert_nPoint_4.x' is up to date.\n"
     ]
    }
   ],
   "source": [
    "%%bash\n",
    "module load daint-gpu\n",
    "module switch PrgEnv-gnu PrgEnv-cray\n",
    "module load perftools-lite\n",
    "\n",
    "# make clean\n",
    "make VERSION=hilbert_nPoint_4"
   ]
  },
  {
   "cell_type": "code",
   "execution_count": null,
   "id": "391b3508-5629-4f15-ab97-c2ce625d0bca",
   "metadata": {},
   "outputs": [],
   "source": [
    "%%bash\n",
    "srun -n 1 ./stencil2d-hilbert.x+orig --nx 128 --ny 128 --nz 64 --num_iter 1024"
   ]
  },
  {
   "cell_type": "code",
   "execution_count": 7,
   "id": "f0c6ccc6-9c9a-475e-9b68-28db2af160b3",
   "metadata": {},
   "outputs": [
    {
     "ename": "SyntaxError",
     "evalue": "invalid syntax (3080853175.py, line 1)",
     "output_type": "error",
     "traceback": [
      "\u001b[0;36m  Input \u001b[0;32mIn [7]\u001b[0;36m\u001b[0m\n\u001b[0;31m    Take a note of time, restart the Kernel, and repeat 10 times.\u001b[0m\n\u001b[0m         ^\u001b[0m\n\u001b[0;31mSyntaxError\u001b[0m\u001b[0;31m:\u001b[0m invalid syntax\n"
     ]
    }
   ],
   "source": [
    "# Take a note of time, restart the Kernel, and repeat 10 times."
   ]
  },
  {
   "cell_type": "code",
   "execution_count": null,
   "id": "3264535b-244d-45ab-8f8c-bdf338008304",
   "metadata": {},
   "outputs": [],
   "source": []
  }
 ],
 "metadata": {
  "kernelspec": {
   "display_name": "HPC4WC_kernel",
   "language": "python",
   "name": "hpc4wc_kernel"
  },
  "language_info": {
   "codemirror_mode": {
    "name": "ipython",
    "version": 3
   },
   "file_extension": ".py",
   "mimetype": "text/x-python",
   "name": "python",
   "nbconvert_exporter": "python",
   "pygments_lexer": "ipython3",
   "version": "3.9.4"
  }
 },
 "nbformat": 4,
 "nbformat_minor": 5
}
