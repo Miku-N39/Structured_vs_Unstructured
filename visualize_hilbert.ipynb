{
 "cells": [
  {
   "cell_type": "code",
   "execution_count": 1,
   "id": "783551db-54cd-40dd-8c84-10636d9c57f5",
   "metadata": {},
   "outputs": [],
   "source": [
    "import numpy as np\n",
    "import matplotlib.pyplot as plt"
   ]
  },
  {
   "cell_type": "markdown",
   "id": "f6dad028-effc-41db-8401-5d7b155ffb2a",
   "metadata": {},
   "source": [
    "# Compile the hilbert curve version"
   ]
  },
  {
   "cell_type": "code",
   "execution_count": 45,
   "id": "82061e40-5901-40df-b655-e8e001df8cd0",
   "metadata": {},
   "outputs": [
    {
     "name": "stdout",
     "output_type": "stream",
     "text": [
      "rm -f *.out weak.txt caching.txt caching2.txt out.txt \n",
      "rm -f -rf *~ *.o *.mod *.MOD *.i core.* *.out *.lst *.x *.x+orig *.x+[0-9]* *.dat *.report report_*.txt out.txt\n",
      "ftn -O3 -hfp3 -eZ -ffree -N255 -ec -eC -eI -eF -rm -h omp -c m_utils.F90\n",
      "ftn -O3 -hfp3 -eZ -ffree -N255 -ec -eC -eI -eF -rm -h omp -c stencil2d-hilbert.F90\n",
      "ftn -O3 -hfp3 -eZ -ffree -N255 -ec -eC -eI -eF -rm -h omp m_utils.o stencil2d-hilbert.o -o stencil2d-hilbert.x\n"
     ]
    },
    {
     "name": "stderr",
     "output_type": "stream",
     "text": [
      "INFO: creating the PerfTools-instrumented executable 'stencil2d-hilbert.x' (lite-samples) ...OK\n"
     ]
    },
    {
     "name": "stdout",
     "output_type": "stream",
     "text": [
      "cp stencil2d-hilbert.x stencil2d.x\n"
     ]
    }
   ],
   "source": [
    "%%bash\n",
    "module load daint-gpu\n",
    "module switch PrgEnv-gnu PrgEnv-cray\n",
    "module load perftools-lite\n",
    "\n",
    "make clean\n",
    "make VERSION=hilbert"
   ]
  },
  {
   "cell_type": "code",
   "execution_count": 50,
   "id": "40509715-f20f-4e1b-81af-30ed4f6117d4",
   "metadata": {},
   "outputs": [
    {
     "name": "stdout",
     "output_type": "stream",
     "text": [
      "# ranks nx ny nz num_iter time\n",
      "data = np.array( [ \\\n",
      "[    1,   16,   16,    1,       1,  0.5245209E-05], \\\n",
      "] )\n"
     ]
    }
   ],
   "source": [
    "#################\n",
    "# set grid size\n",
    "################\n",
    "size = 16\n",
    "!srun -n 1 ./stencil2d-hilbert.x+orig --nx {size} --ny {size} --nz 1 --num_iter 1"
   ]
  },
  {
   "cell_type": "code",
   "execution_count": 51,
   "id": "007522b1-30c7-452e-b17e-be8cb15aea2c",
   "metadata": {},
   "outputs": [],
   "source": [
    "# move the file to data directory\n",
    "data_dir = \"data/hilbert_visualize\"\n",
    "!mkdir -p {data_dir}\n",
    "\n",
    "gridsize = f\"{size}x{size}\"\n",
    "!mv hilbert_coord.dat {data_dir}/hilbert_coord_{gridsize}.dat"
   ]
  },
  {
   "cell_type": "markdown",
   "id": "de439192-82ec-4a68-b9a2-a083e113748c",
   "metadata": {},
   "source": [
    "# load and plot hilbert curve"
   ]
  },
  {
   "cell_type": "code",
   "execution_count": 56,
   "id": "440dbda5-cc1e-4fbe-b142-7d7b889c7e8c",
   "metadata": {},
   "outputs": [],
   "source": [
    "# load data\n",
    "size = 16\n",
    "gridsize = f\"{size}x{size}\"\n",
    "data = np.fromfile(f\"{data_dir}/hilbert_coord_{gridsize}.dat\", dtype=np.int32)\n",
    "# [nx, ny] = data[:2]\n",
    "nPoint = data[:1][0]\n",
    "xPoint = data[1:][:nPoint]\n",
    "yPoint = data[1:][nPoint:]"
   ]
  },
  {
   "cell_type": "code",
   "execution_count": 57,
   "id": "7b2ae7cf-8aa5-4ac1-b975-fc038076ffe1",
   "metadata": {},
   "outputs": [
    {
     "data": {
      "image/png": "[encoded data removed]",
      "text/plain": [
       "<Figure size 432x432 with 1 Axes>"
      ]
     },
     "metadata": {
      "needs_background": "light"
     },
     "output_type": "display_data"
    }
   ],
   "source": [
    "# set figure dir\n",
    "fig_dir = \"figures/hilbert_visualize\"\n",
    "!mkdir -p {fig_dir}\n",
    "\n",
    "# plot hilbert curve\n",
    "fig = plt.figure(figsize=(6,6))\n",
    "ax = fig.add_subplot()\n",
    "\n",
    "ax.plot(xPoint, yPoint)\n",
    "ax.set_title(f\"hilbert curve of grid size {gridsize}\", size=18)\n",
    "ax.set_xticks(np.arange(1,np.sqrt(nPoint)+1))\n",
    "ax.set_yticks(np.arange(1,np.sqrt(nPoint)+1))\n",
    "ax.grid()\n",
    "\n",
    "ax.tick_params(axis='x', labelsize=14)\n",
    "ax.tick_params(axis='y', labelsize=14)\n",
    "\n",
    "fig.tight_layout()\n",
    "fig.savefig(f\"{fig_dir}/hilbert_{gridsize}.png\")"
   ]
  },
  {
   "cell_type": "markdown",
   "id": "90f4e444-9293-4fa5-bcda-7045ca02f3a0",
   "metadata": {},
   "source": [
    "clear all the exec."
   ]
  },
  {
   "cell_type": "code",
   "execution_count": 58,
   "id": "afefa529-ea6a-4fe9-a1d4-47bf8186af7f",
   "metadata": {},
   "outputs": [
    {
     "name": "stdout",
     "output_type": "stream",
     "text": [
      "rm -f *.out weak.txt caching.txt caching2.txt out.txt \n",
      "rm -f -rf *~ *.o *.mod *.MOD *.i core.* *.out *.lst *.x *.x+orig *.x+[0-9]* *.dat *.report report_*.txt out.txt\n"
     ]
    }
   ],
   "source": [
    "%%bash\n",
    "module load daint-gpu\n",
    "module switch PrgEnv-gnu PrgEnv-cray\n",
    "module load perftools-lite\n",
    "\n",
    "make clean"
   ]
  },
  {
   "cell_type": "code",
   "execution_count": null,
   "id": "bfa5c1b0-a58b-44a3-b8d2-e36ebebbddf1",
   "metadata": {},
   "outputs": [],
   "source": []
  }
 ],
 "metadata": {
  "kernelspec": {
   "display_name": "HPC4WC_kernel",
   "language": "python",
   "name": "hpc4wc_kernel"
  },
  "language_info": {
   "codemirror_mode": {
    "name": "ipython",
    "version": 3
   },
   "file_extension": ".py",
   "mimetype": "text/x-python",
   "name": "python",
   "nbconvert_exporter": "python",
   "pygments_lexer": "ipython3",
   "version": "3.9.4"
  }
 },
 "nbformat": 4,
 "nbformat_minor": 5
}
