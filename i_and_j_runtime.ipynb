{
 "cells": [
  {
   "cell_type": "code",
   "execution_count": 2,
   "id": "bdc695a3-a2ca-47e7-98cc-aeb489abb00c",
   "metadata": {},
   "outputs": [],
   "source": [
    "import timeit\n",
    "\n",
    "import matplotlib\n",
    "import matplotlib.pyplot as plt\n",
    "import numpy as np"
   ]
  },
  {
   "cell_type": "markdown",
   "id": "88e376b7-6c9d-430a-b3cd-1204261c1438",
   "metadata": {},
   "source": [
    "# Compile i out and j out  sequential stencil2d model"
   ]
  },
  {
   "cell_type": "code",
   "execution_count": 15,
   "id": "d02319fa-b36e-4d40-9348-129673a7ba6b",
   "metadata": {},
   "outputs": [
    {
     "name": "stdout",
     "output_type": "stream",
     "text": [
      "make: 'stencil2d-unstructured_i_out.x' is up to date.\n"
     ]
    }
   ],
   "source": [
    "%%bash\n",
    "module load daint-gpu\n",
    "module switch PrgEnv-gnu PrgEnv-cray\n",
    "module load perftools-lite\n",
    "\n",
    "# make clean\n",
    "make VERSION=unstructured_i_out\n",
    "# make VERSION=unstructured_j_out"
   ]
  },
  {
   "cell_type": "code",
   "execution_count": 16,
   "id": "705cb9b6-bec4-4889-8b15-6e38523a6fd4",
   "metadata": {
    "tags": []
   },
   "outputs": [
    {
     "name": "stdout",
     "output_type": "stream",
     "text": [
      "# ranks nx ny nz num_iter time\n",
      "data = np.array( [ \\\n",
      "[    1,  128,  128,   64,    1024,  0.4877887E+01], \\\n",
      "] )\n"
     ]
    }
   ],
   "source": [
    "%%bash\n",
    "srun -n 1 ./stencil2d-unstructured_i_out.x+orig --nx 128 --ny 128 --nz 64 --num_iter 1024\n",
    "\n",
    "# srun -n 1 ./stencil2d-unstructured_j_out.x+orig --nx 128 --ny 128 --nz 64 --num_iter 1024\n"
   ]
  },
  {
   "cell_type": "markdown",
   "id": "21a49421-674c-4942-a416-24b1a2d0c5a6",
   "metadata": {},
   "source": [
    "# Take a note of time, restart the Kernel, and repeat 10 times.\n",
    "# For j out, comment out the i out line and use j out line provided.\n"
   ]
  },
  {
   "cell_type": "code",
   "execution_count": null,
   "id": "daa8d52c-1116-4b79-8887-b711d56b5b53",
   "metadata": {},
   "outputs": [],
   "source": []
  }
 ],
 "metadata": {
  "kernelspec": {
   "display_name": "HPC4WC_kernel",
   "language": "python",
   "name": "hpc4wc_kernel"
  },
  "language_info": {
   "codemirror_mode": {
    "name": "ipython",
    "version": 3
   },
   "file_extension": ".py",
   "mimetype": "text/x-python",
   "name": "python",
   "nbconvert_exporter": "python",
   "pygments_lexer": "ipython3",
   "version": "3.9.4"
  }
 },
 "nbformat": 4,
 "nbformat_minor": 5
}
