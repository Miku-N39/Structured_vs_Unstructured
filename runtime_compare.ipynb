{
 "cells": [
  {
   "cell_type": "code",
   "execution_count": 1,
   "id": "bdc695a3-a2ca-47e7-98cc-aeb489abb00c",
   "metadata": {},
   "outputs": [],
   "source": [
    "import timeit\n",
    "\n",
    "import matplotlib\n",
    "import matplotlib.pyplot as plt\n",
    "import numpy as np"
   ]
  },
  {
   "cell_type": "markdown",
   "id": "88e376b7-6c9d-430a-b3cd-1204261c1438",
   "metadata": {},
   "source": [
    "# Compile all versions of the stencil2d model"
   ]
  },
  {
   "cell_type": "code",
   "execution_count": 2,
   "id": "d02319fa-b36e-4d40-9348-129673a7ba6b",
   "metadata": {},
   "outputs": [
    {
     "name": "stdout",
     "output_type": "stream",
     "text": [
      "ftn -O3 -hfp3 -eZ -ffree -N255 -ec -eC -eI -eF -rm -h omp -c m_utils.F90\n",
      "ftn -O3 -hfp3 -eZ -ffree -N255 -ec -eC -eI -eF -rm -h omp -c stencil2d-sequential.F90\n",
      "ftn -O3 -hfp3 -eZ -ffree -N255 -ec -eC -eI -eF -rm -h omp m_utils.o stencil2d-sequential.o -o stencil2d-sequential.x\n"
     ]
    },
    {
     "name": "stderr",
     "output_type": "stream",
     "text": [
      "INFO: creating the PerfTools-instrumented executable 'stencil2d-sequential.x' (lite-samples) ...OK\n"
     ]
    },
    {
     "name": "stdout",
     "output_type": "stream",
     "text": [
      "cp stencil2d-sequential.x stencil2d.x\n"
     ]
    }
   ],
   "source": [
    "%%bash\n",
    "module load daint-gpu\n",
    "module switch PrgEnv-gnu PrgEnv-cray\n",
    "module load perftools-lite\n",
    "\n",
    "# make clean\n",
    "make VERSION=sequential"
   ]
  },
  {
   "cell_type": "code",
   "execution_count": 3,
   "id": "7b00c0b2-b9d7-48f0-b125-811012c7822b",
   "metadata": {},
   "outputs": [
    {
     "name": "stdout",
     "output_type": "stream",
     "text": [
      "ftn -O3 -hfp3 -eZ -ffree -N255 -ec -eC -eI -eF -rm -h omp -c stencil2d-random.F90\n",
      "ftn -O3 -hfp3 -eZ -ffree -N255 -ec -eC -eI -eF -rm -h omp m_utils.o stencil2d-random.o -o stencil2d-random.x\n"
     ]
    },
    {
     "name": "stderr",
     "output_type": "stream",
     "text": [
      "INFO: creating the PerfTools-instrumented executable 'stencil2d-random.x' (lite-samples) ...OK\n"
     ]
    },
    {
     "name": "stdout",
     "output_type": "stream",
     "text": [
      "cp stencil2d-random.x stencil2d.x\n"
     ]
    }
   ],
   "source": [
    "%%bash\n",
    "module load daint-gpu\n",
    "module switch PrgEnv-gnu PrgEnv-cray\n",
    "module load perftools-lite\n",
    "\n",
    "# make clean\n",
    "make VERSION=random"
   ]
  },
  {
   "cell_type": "code",
   "execution_count": 4,
   "id": "1c6d5da9-f22c-4875-b18e-ea342e3e6069",
   "metadata": {},
   "outputs": [
    {
     "name": "stdout",
     "output_type": "stream",
     "text": [
      "ftn -O3 -hfp3 -eZ -ffree -N255 -ec -eC -eI -eF -rm -h omp -c stencil2d-hilbert.F90\n",
      "ftn -O3 -hfp3 -eZ -ffree -N255 -ec -eC -eI -eF -rm -h omp m_utils.o stencil2d-hilbert.o -o stencil2d-hilbert.x\n"
     ]
    },
    {
     "name": "stderr",
     "output_type": "stream",
     "text": [
      "INFO: creating the PerfTools-instrumented executable 'stencil2d-hilbert.x' (lite-samples) ...OK\n"
     ]
    },
    {
     "name": "stdout",
     "output_type": "stream",
     "text": [
      "cp stencil2d-hilbert.x stencil2d.x\n"
     ]
    }
   ],
   "source": [
    "%%bash\n",
    "module load daint-gpu\n",
    "module switch PrgEnv-gnu PrgEnv-cray\n",
    "module load perftools-lite\n",
    "\n",
    "# make clean\n",
    "make VERSION=hilbert"
   ]
  },
  {
   "cell_type": "code",
   "execution_count": 5,
   "id": "1b825f9b-83cb-48a5-b720-a7bca918877b",
   "metadata": {},
   "outputs": [
    {
     "name": "stdout",
     "output_type": "stream",
     "text": [
      "ftn -O3 -hfp3 -eZ -ffree -N255 -ec -eC -eI -eF -rm -h omp -c stencil2d-base.F90\n",
      "ftn -O3 -hfp3 -eZ -ffree -N255 -ec -eC -eI -eF -rm -h omp m_utils.o stencil2d-base.o -o stencil2d-base.x\n"
     ]
    },
    {
     "name": "stderr",
     "output_type": "stream",
     "text": [
      "INFO: creating the PerfTools-instrumented executable 'stencil2d-base.x' (lite-samples) ...OK\n"
     ]
    },
    {
     "name": "stdout",
     "output_type": "stream",
     "text": [
      "cp stencil2d-base.x stencil2d.x\n"
     ]
    }
   ],
   "source": [
    "%%bash\n",
    "module load daint-gpu\n",
    "module switch PrgEnv-gnu PrgEnv-cray\n",
    "module load perftools-lite\n",
    "\n",
    "# make clean\n",
    "make VERSION=base"
   ]
  },
  {
   "cell_type": "markdown",
   "id": "ce7e66dc-2211-4bbd-85dc-cf2f4b7d2f77",
   "metadata": {},
   "source": [
    "# Run the models with different domain sizes\n",
    "I run each for loop one by one to avoid too heavy computational load. Just comment out the other loops when running the one you want"
   ]
  },
  {
   "cell_type": "code",
   "execution_count": 3,
   "id": "eaaa2e39-00bd-4988-bdd2-6b9a3530d2c7",
   "metadata": {
    "tags": []
   },
   "outputs": [
    {
     "name": "stdout",
     "output_type": "stream",
     "text": [
      "# ranks nx ny ny nz num_iter time\n",
      "data = np.array( [ \\\n",
      "[   12,   16,   16,   64,    1024,  0.3406290E-01], \\\n",
      "] )\n",
      "# ranks nx ny ny nz num_iter time\n",
      "data = np.array( [ \\\n",
      "[   12,   32,   32,   64,    1024,  0.8966817E-01], \\\n",
      "] )\n",
      "# ranks nx ny ny nz num_iter time\n",
      "data = np.array( [ \\\n",
      "[   12,   64,   64,   64,    1024,  0.2648436E+00], \\\n",
      "] )\n",
      "# ranks nx ny ny nz num_iter time\n",
      "data = np.array( [ \\\n",
      "[   12,  128,  128,   64,    1024,  0.2102895E+01], \\\n",
      "] )\n",
      "# ranks nx ny ny nz num_iter time\n",
      "data = np.array( [ \\\n",
      "[   12,  256,  256,   64,    1024,  0.8798674E+01], \\\n",
      "] )\n",
      "# ranks nx ny ny nz num_iter time\n",
      "data = np.array( [ \\\n",
      "[   12,  512,  512,   64,    1024,  0.4014422E+02], \\\n",
      "] )\n",
      "# ranks nx ny ny nz num_iter time\n",
      "data = np.array( [ \\\n",
      "[   12, 1024, 1024,   64,    1024,  0.3427699E+03], \\\n",
      "] )\n"
     ]
    }
   ],
   "source": [
    "gridsize_ls = np.array([16, 32, 64, 128, 256, 512, 1024])\n",
    "\n",
    "for i in gridsize_ls:\n",
    "    # sequantial\n",
    "    output = !srun -n 12 ./stencil2d-sequential.x+orig --nx {i} --ny {i} --nz 64 --num_iter 1024\n",
    "    print(output.nlstr)\n",
    "    exec(output.nlstr)\n",
    "\n",
    "    savedir = \"data/runtime_comparison\"\n",
    "    filename = f\"data_sequential_{i}x{i}\"\n",
    "    np.save(f\"{savedir}/{filename}\", data)\n",
    "    \n",
    "for i in gridsize_ls:\n",
    "    # random\n",
    "    output = !srun -n 12 ./stencil2d-random.x+orig --nx {i} --ny {i} --nz 64 --num_iter 1024\n",
    "    print(output.nlstr)\n",
    "    exec(output.nlstr)\n",
    "\n",
    "    savedir = \"data/runtime_comparison\"\n",
    "    filename = f\"data_random_{i}x{i}\"\n",
    "    np.save(f\"{savedir}/{filename}\", data)\n",
    "    \n",
    "for i in gridsize_ls:\n",
    "    # hilbert\n",
    "    output = !srun -n 12 ./stencil2d-hilbert.x+orig --nx {i} --ny {i} --nz 64 --num_iter 1024\n",
    "    print(output.nlstr)\n",
    "    exec(output.nlstr)\n",
    "\n",
    "    savedir = \"data/runtime_comparison\"\n",
    "    filename = f\"data_hilbert_{i}x{i}\"\n",
    "    np.save(f\"{savedir}/{filename}\", data)\n",
    "    \n",
    "for i in gridsize_ls:\n",
    "    # structured\n",
    "    output = !srun -n 12 ./stencil2d-base.x+orig --nx {i} --ny {i} --nz 64 --num_iter 1024\n",
    "    print(output.nlstr)\n",
    "    exec(output.nlstr)\n",
    "\n",
    "    savedir = \"data/runtime_comparison\"\n",
    "    filename = f\"data_base_{i}x{i}\"\n",
    "    np.save(f\"{savedir}/{filename}\", data)"
   ]
  },
  {
   "cell_type": "markdown",
   "id": "822e538e-7c39-4404-874b-1e54167b3dff",
   "metadata": {},
   "source": [
    "# Load data and plot"
   ]
  },
  {
   "cell_type": "code",
   "execution_count": 6,
   "id": "81a0e922-a917-45eb-be14-4481767d031d",
   "metadata": {},
   "outputs": [],
   "source": [
    "case_list = [\"sequential\", \"random\", \"hilbert\", \"base\"]\n",
    "label_list = [\"sequential\", \"random\", \"hilbert\", \"structured\"]\n",
    "gridsize_ls = np.array([16, 32, 64, 128, 256, 512, 1024])\n",
    "savedir = \"data/runtime_comparison\"\n",
    "case_data_list = []\n",
    "\n",
    "for case in case_list:\n",
    "    data_list = []\n",
    "    \n",
    "    for j in gridsize_ls:\n",
    "        tmp = np.load(f\"{savedir}/data_{case}_{j}x{j}.npy\")\n",
    "        data_list.append(tmp)\n",
    "        data = np.concatenate(data_list)\n",
    "    case_data_list.append(data)\n",
    "    "
   ]
  },
  {
   "cell_type": "code",
   "execution_count": 7,
   "id": "003207d0-eef7-48e5-9d30-bf8b12b874c1",
   "metadata": {
    "tags": []
   },
   "outputs": [
    {
     "data": {
      "image/png": "[encoded data removed]",
      "text/plain": [
       "<Figure size 720x432 with 1 Axes>"
      ]
     },
     "metadata": {
      "needs_background": "light"
     },
     "output_type": "display_data"
    }
   ],
   "source": [
    "fig = plt.figure(figsize=(10,6))\n",
    "ax = fig.add_subplot()\n",
    "for i in range(len(case_data_list)):\n",
    "    data = case_data_list[i]\n",
    "    domain_size = np.log2(data[:,1])\n",
    "    runtime_per_gridpoint = data[:,5] / data[:,1] / data[:,2] / data[:,3]\n",
    "    ax.plot(domain_size, runtime_per_gridpoint * 1.0e6, '.', **{'label':f'{label_list[i]}', 'markersize':10})\n",
    "\n",
    "ax.set_yscale('log')\n",
    "ax.grid(visible=True, which='both')\n",
    "ax.set_title(\"Comparison of the runtime of different unstructured mapping methods\", size=15)\n",
    "ax.set_xlabel(\"Domain grid size\", size=12)\n",
    "ax.set_xticks(np.log2(gridsize_ls))\n",
    "ax.set_xticklabels(gridsize_ls)\n",
    "ax.set_ylabel( 'Runtime / gridpoint [µs]', size=12)\n",
    "ax.tick_params(axis='x', labelsize=12)\n",
    "ax.tick_params(axis='y', labelsize=12)\n",
    "ax.legend(**{'fontsize':12})\n",
    "fig.tight_layout()\n",
    "fig.savefig(f\"figures/comparison_runtime.png\");"
   ]
  },
  {
   "cell_type": "markdown",
   "id": "f5149096-18f2-41f4-aaa1-8b489a82fcda",
   "metadata": {},
   "source": [
    "clean all exec."
   ]
  },
  {
   "cell_type": "code",
   "execution_count": 8,
   "id": "e912de3a-06f4-4827-946c-7d9f9d0dde86",
   "metadata": {},
   "outputs": [
    {
     "name": "stdout",
     "output_type": "stream",
     "text": [
      "rm -f *.out weak.txt caching.txt caching2.txt out.txt \n",
      "rm -f -rf *~ *.o *.mod *.MOD *.i core.* *.out *.lst *.x *.x+orig *.x+[0-9]* *.dat *.report report_*.txt out.txt\n"
     ]
    }
   ],
   "source": [
    "%%bash\n",
    "module load daint-gpu\n",
    "module switch PrgEnv-gnu PrgEnv-cray\n",
    "module load perftools-lite\n",
    "\n",
    "make clean"
   ]
  },
  {
   "cell_type": "markdown",
   "id": "2fa3b16f-f353-46fe-8f75-7f5c20c9518c",
   "metadata": {},
   "source": [
    "# check cache report"
   ]
  },
  {
   "cell_type": "code",
   "execution_count": 11,
   "id": "dce5cac3-e886-4c9c-8301-1bf54fd9abb5",
   "metadata": {},
   "outputs": [],
   "source": [
    "cache_data_dir = f\"{savedir}/cache_report\"\n",
    "!mkdir -p {cache_data_dir}"
   ]
  },
  {
   "cell_type": "markdown",
   "id": "2cff514f-3042-4032-8230-c706cfeb49c7",
   "metadata": {},
   "source": [
    "### Hilbert curve"
   ]
  },
  {
   "cell_type": "code",
   "execution_count": 9,
   "id": "64b81237-a4b5-4c76-acf1-bf205cbc6f7a",
   "metadata": {},
   "outputs": [
    {
     "name": "stdout",
     "output_type": "stream",
     "text": [
      "rm -f *.out weak.txt caching.txt caching2.txt out.txt \n",
      "rm -f -rf *~ *.o *.mod *.MOD *.i core.* *.out *.lst *.x *.x+orig *.x+[0-9]* *.dat *.report report_*.txt out.txt\n",
      "ftn -O3 -hfp3 -eZ -ffree -N255 -ec -eC -eI -eF -rm -h omp -c m_utils.F90\n",
      "ftn -O3 -hfp3 -eZ -ffree -N255 -ec -eC -eI -eF -rm -h omp -c stencil2d-hilbert.F90\n",
      "ftn -O3 -hfp3 -eZ -ffree -N255 -ec -eC -eI -eF -rm -h omp m_utils.o stencil2d-hilbert.o -o stencil2d-hilbert.x\n",
      "cp stencil2d-hilbert.x stencil2d.x\n"
     ]
    },
    {
     "name": "stderr",
     "output_type": "stream",
     "text": [
      "CrayPat/X:  Version 21.09.0 Revision b02949528  08/17/21 03:14:02\n"
     ]
    },
    {
     "name": "stdout",
     "output_type": "stream",
     "text": [
      "# ranks nx ny nz num_iter time\n",
      "data = np.array( [ \\\n",
      "[   12,  128,  128,   64,    1024,  0.6313039E+01], \\\n",
      "] )\n"
     ]
    },
    {
     "name": "stderr",
     "output_type": "stream",
     "text": [
      "Experiment data directory written:\n",
      "/users/class164/Submission/stencil2d-hilbert.x+pat+434-3875t\n"
     ]
    }
   ],
   "source": [
    "%%bash\n",
    "module load daint-gpu\n",
    "module switch PrgEnv-gnu PrgEnv-cray\n",
    "module load perftools\n",
    "\n",
    "make clean\n",
    "make VERSION=hilbert\n",
    "pat_build -Drtenv=PAT_RT_PERFCTR=1 -g mpi -u stencil2d-hilbert.x\n",
    "# start from 128\n",
    "srun -n 12 ./stencil2d-hilbert.x+pat --nx 128 --ny 128 --nz 64 --num_iter 1024"
   ]
  },
  {
   "cell_type": "code",
   "execution_count": 10,
   "id": "8722edc6-e91a-4077-8159-85dcb93ce6b8",
   "metadata": {},
   "outputs": [
    {
     "name": "stderr",
     "output_type": "stream",
     "text": [
      "Processing step 11 of 11\n"
     ]
    }
   ],
   "source": [
    "%%bash\n",
    "pat_report -o report.txt stencil2d-hilbert.x+pat+*"
   ]
  },
  {
   "cell_type": "code",
   "execution_count": 12,
   "id": "d6de1f23-dd43-402c-bd50-4016b6285854",
   "metadata": {},
   "outputs": [],
   "source": [
    "!mv report.txt {cache_data_dir}/report_hilbert.txt"
   ]
  },
  {
   "cell_type": "markdown",
   "id": "9a872d20-54b1-40fa-b1c0-d2fbd4075323",
   "metadata": {},
   "source": [
    "### sequential"
   ]
  },
  {
   "cell_type": "code",
   "execution_count": 15,
   "id": "8cff9ad9-e5d3-414c-a670-6467d2551716",
   "metadata": {},
   "outputs": [
    {
     "name": "stdout",
     "output_type": "stream",
     "text": [
      "rm -f *.out weak.txt caching.txt caching2.txt out.txt \n",
      "rm -f -rf *~ *.o *.mod *.MOD *.i core.* *.out *.lst *.x *.x+orig *.x+[0-9]* *.dat *.report report_*.txt out.txt\n",
      "ftn -O3 -hfp3 -eZ -ffree -N255 -ec -eC -eI -eF -rm -h omp -c m_utils.F90\n",
      "ftn -O3 -hfp3 -eZ -ffree -N255 -ec -eC -eI -eF -rm -h omp -c stencil2d-sequential.F90\n",
      "ftn -O3 -hfp3 -eZ -ffree -N255 -ec -eC -eI -eF -rm -h omp m_utils.o stencil2d-sequential.o -o stencil2d-sequential.x\n",
      "cp stencil2d-sequential.x stencil2d.x\n"
     ]
    },
    {
     "name": "stderr",
     "output_type": "stream",
     "text": [
      "CrayPat/X:  Version 21.09.0 Revision b02949528  08/17/21 03:14:02\n"
     ]
    },
    {
     "name": "stdout",
     "output_type": "stream",
     "text": [
      "# ranks nx ny nz num_iter time\n",
      "data = np.array( [ \\\n",
      "[   12,  128,  128,   64,    1024,  0.5492527E+01], \\\n",
      "] )\n"
     ]
    },
    {
     "name": "stderr",
     "output_type": "stream",
     "text": [
      "Experiment data directory written:\n",
      "/users/class164/Submission/stencil2d-sequential.x+pat+1210-3875t\n"
     ]
    }
   ],
   "source": [
    "%%bash\n",
    "module load daint-gpu\n",
    "module switch PrgEnv-gnu PrgEnv-cray\n",
    "module load perftools\n",
    "\n",
    "make clean\n",
    "make VERSION=sequential\n",
    "pat_build -Drtenv=PAT_RT_PERFCTR=1 -g mpi -u stencil2d-sequential.x\n",
    "# start from 128\n",
    "srun -n 12 ./stencil2d-sequential.x+pat --nx 128 --ny 128 --nz 64 --num_iter 1024"
   ]
  },
  {
   "cell_type": "code",
   "execution_count": 16,
   "id": "a736be54-1612-4c42-8271-a5b105ce13f9",
   "metadata": {},
   "outputs": [
    {
     "name": "stderr",
     "output_type": "stream",
     "text": [
      "Processing step 11 of 11\n"
     ]
    }
   ],
   "source": [
    "%%bash\n",
    "pat_report -o report.txt stencil2d-sequential.x+pat+*"
   ]
  },
  {
   "cell_type": "code",
   "execution_count": 17,
   "id": "1fad0cbc-79ee-4d52-a865-7d7b8e9dbec5",
   "metadata": {},
   "outputs": [],
   "source": [
    "!mv report.txt {cache_data_dir}/report_sequential.txt"
   ]
  },
  {
   "cell_type": "markdown",
   "id": "12ce9aeb-a518-464a-a563-d56db64d5717",
   "metadata": {},
   "source": [
    "clean all exec."
   ]
  },
  {
   "cell_type": "code",
   "execution_count": 18,
   "id": "1949a911-8625-4e04-bfec-38a7de8050d8",
   "metadata": {},
   "outputs": [
    {
     "name": "stdout",
     "output_type": "stream",
     "text": [
      "rm -f *.out weak.txt caching.txt caching2.txt out.txt \n",
      "rm -f -rf *~ *.o *.mod *.MOD *.i core.* *.out *.lst *.x *.x+orig *.x+[0-9]* *.dat *.report report_*.txt out.txt\n"
     ]
    }
   ],
   "source": [
    "%%bash\n",
    "module load daint-gpu\n",
    "module switch PrgEnv-gnu PrgEnv-cray\n",
    "module load perftools-lite\n",
    "\n",
    "make clean"
   ]
  },
  {
   "cell_type": "code",
   "execution_count": null,
   "id": "8cf67eab-1905-428d-81bf-d14f6a95d30f",
   "metadata": {},
   "outputs": [],
   "source": []
  }
 ],
 "metadata": {
  "kernelspec": {
   "display_name": "HPC4WC_kernel",
   "language": "python",
   "name": "hpc4wc_kernel"
  },
  "language_info": {
   "codemirror_mode": {
    "name": "ipython",
    "version": 3
   },
   "file_extension": ".py",
   "mimetype": "text/x-python",
   "name": "python",
   "nbconvert_exporter": "python",
   "pygments_lexer": "ipython3",
   "version": "3.9.4"
  }
 },
 "nbformat": 4,
 "nbformat_minor": 5
}
