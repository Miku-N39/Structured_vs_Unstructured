{
 "cells": [
  {
   "cell_type": "code",
   "execution_count": 26,
   "metadata": {},
   "outputs": [],
   "source": [
    "import pandas as pd\n",
    "import numpy as np\n",
    "import matplotlib.pyplot as plt\n",
    "import scipy.stats as stats"
   ]
  },
  {
   "cell_type": "code",
   "execution_count": 27,
   "metadata": {},
   "outputs": [],
   "source": [
    "# noted runtime from the experiment\n",
    "\n",
    "j_out = [0.4888083E+01, \n",
    "         0.4864598E+01, \n",
    "         0.4888386E+01, \n",
    "         0.4884409E+01, \n",
    "         0.4884409E+01,  \n",
    "         0.4882506E+01,\n",
    "         0.4874856E+01,\n",
    "         0.4885889E+01,\n",
    "         0.4872857E+01, \n",
    "         0.4885680E+01]\n",
    "\n",
    "i_out = [0.4885087E+01,\n",
    "         0.4897564E+01,\n",
    "         0.4878242E+01,\n",
    "         0.4881968E+01, \n",
    "         0.4872844E+01,\n",
    "         0.4897080E+01,\n",
    "         0.4899633E+01,\n",
    "         0.4917517E+01,\n",
    "         0.4891373E+01,\n",
    "         0.4910276E+01]"
   ]
  },
  {
   "cell_type": "code",
   "execution_count": 28,
   "metadata": {},
   "outputs": [
    {
     "data": {
      "text/html": [
       "<div>\n",
       "<style scoped>\n",
       "    .dataframe tbody tr th:only-of-type {\n",
       "        vertical-align: middle;\n",
       "    }\n",
       "\n",
       "    .dataframe tbody tr th {\n",
       "        vertical-align: top;\n",
       "    }\n",
       "\n",
       "    .dataframe thead th {\n",
       "        text-align: right;\n",
       "    }\n",
       "</style>\n",
       "<table border=\"1\" class=\"dataframe\">\n",
       "  <thead>\n",
       "    <tr style=\"text-align: right;\">\n",
       "      <th></th>\n",
       "      <th>j_out</th>\n",
       "      <th>i_out</th>\n",
       "    </tr>\n",
       "  </thead>\n",
       "  <tbody>\n",
       "    <tr>\n",
       "      <th>0</th>\n",
       "      <td>4.888083</td>\n",
       "      <td>4.885087</td>\n",
       "    </tr>\n",
       "    <tr>\n",
       "      <th>1</th>\n",
       "      <td>4.864598</td>\n",
       "      <td>4.897564</td>\n",
       "    </tr>\n",
       "    <tr>\n",
       "      <th>2</th>\n",
       "      <td>4.888386</td>\n",
       "      <td>4.878242</td>\n",
       "    </tr>\n",
       "    <tr>\n",
       "      <th>3</th>\n",
       "      <td>4.884409</td>\n",
       "      <td>4.881968</td>\n",
       "    </tr>\n",
       "    <tr>\n",
       "      <th>4</th>\n",
       "      <td>4.884409</td>\n",
       "      <td>4.872844</td>\n",
       "    </tr>\n",
       "    <tr>\n",
       "      <th>5</th>\n",
       "      <td>4.882506</td>\n",
       "      <td>4.897080</td>\n",
       "    </tr>\n",
       "    <tr>\n",
       "      <th>6</th>\n",
       "      <td>4.874856</td>\n",
       "      <td>4.899633</td>\n",
       "    </tr>\n",
       "    <tr>\n",
       "      <th>7</th>\n",
       "      <td>4.885889</td>\n",
       "      <td>4.917517</td>\n",
       "    </tr>\n",
       "    <tr>\n",
       "      <th>8</th>\n",
       "      <td>4.872857</td>\n",
       "      <td>4.891373</td>\n",
       "    </tr>\n",
       "    <tr>\n",
       "      <th>9</th>\n",
       "      <td>4.885680</td>\n",
       "      <td>4.910276</td>\n",
       "    </tr>\n",
       "  </tbody>\n",
       "</table>\n",
       "</div>"
      ],
      "text/plain": [
       "      j_out     i_out\n",
       "0  4.888083  4.885087\n",
       "1  4.864598  4.897564\n",
       "2  4.888386  4.878242\n",
       "3  4.884409  4.881968\n",
       "4  4.884409  4.872844\n",
       "5  4.882506  4.897080\n",
       "6  4.874856  4.899633\n",
       "7  4.885889  4.917517\n",
       "8  4.872857  4.891373\n",
       "9  4.885680  4.910276"
      ]
     },
     "execution_count": 28,
     "metadata": {},
     "output_type": "execute_result"
    }
   ],
   "source": [
    "data = pd.DataFrame({'j_out': j_out,'i_out': i_out})\n",
    "data"
   ]
  },
  {
   "cell_type": "code",
   "execution_count": 29,
   "metadata": {},
   "outputs": [
    {
     "data": {
      "image/png": "[encoded data removed]",
      "text/plain": [
       "<Figure size 800x600 with 1 Axes>"
      ]
     },
     "metadata": {},
     "output_type": "display_data"
    }
   ],
   "source": [
    "# Plotting the box-and-whisker plot\n",
    "plt.figure(figsize=(8, 6))\n",
    "plt.boxplot([data['j_out'], data['i_out']], labels=['row-by-row', 'column-by-column'])\n",
    "plt.title('Comparison of row-by-row and column-by-column')\n",
    "plt.ylabel('Runtime(sec)')\n",
    "plt.savefig('row_vs_column')\n",
    "plt.show()"
   ]
  },
  {
   "cell_type": "code",
   "execution_count": 30,
   "metadata": {},
   "outputs": [
    {
     "name": "stdout",
     "output_type": "stream",
     "text": [
      "Mann-Whitney U Test: MannwhitneyuResult(statistic=73.0, pvalue=0.08885290847904963)\n"
     ]
    }
   ],
   "source": [
    "# Mann-Whitney U Test\n",
    "mann_whitney_test = stats.mannwhitneyu(i_out, j_out, alternative='two-sided')\n",
    "print(\"Mann-Whitney U Test:\", mann_whitney_test)\n"
   ]
  }
 ],
 "metadata": {
  "kernelspec": {
   "display_name": ".torch1",
   "language": "python",
   "name": "python3"
  },
  "language_info": {
   "codemirror_mode": {
    "name": "ipython",
    "version": 3
   },
   "file_extension": ".py",
   "mimetype": "text/x-python",
   "name": "python",
   "nbconvert_exporter": "python",
   "pygments_lexer": "ipython3",
   "version": "3.10.10"
  }
 },
 "nbformat": 4,
 "nbformat_minor": 2
}
